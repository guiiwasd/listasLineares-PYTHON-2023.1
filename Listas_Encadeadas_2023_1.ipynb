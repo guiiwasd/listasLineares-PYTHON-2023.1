{
  "nbformat": 4,
  "nbformat_minor": 0,
  "metadata": {
    "colab": {
      "provenance": [],
      "include_colab_link": true
    },
    "kernelspec": {
      "name": "python3",
      "display_name": "Python 3"
    },
    "language_info": {
      "name": "python"
    }
  },
  "cells": [
    {
      "cell_type": "markdown",
      "metadata": {
        "id": "view-in-github",
        "colab_type": "text"
      },
      "source": [
        "<a href=\"https://colab.research.google.com/github/guipatrocinio/Listas-Lineares/blob/main/Listas_Encadeadas_2023_1.ipynb\" target=\"_parent\"><img src=\"https://colab.research.google.com/assets/colab-badge.svg\" alt=\"Open In Colab\"/></a>"
      ]
    },
    {
      "cell_type": "code",
      "source": [
        "class Fila:\n",
        "  def __init__(self):\n",
        "    self.__info = []\n",
        "\n",
        "  def filaVazia(self):\n",
        "    return len(self.__info) == 0\n",
        "\n",
        "  def enQueue(self, dado):\n",
        "    self.__info.append(dado)\n",
        "\n",
        "  def deQueue(self):\n",
        "    if not self.filaVazia():\n",
        "      return self.__info.pop(0)\n",
        "    else:\n",
        "      return None\n",
        "\n",
        "  def mostraInfo(self):\n",
        "    print(self.__info)"
      ],
      "metadata": {
        "id": "FNkWyWtz2gPK"
      },
      "execution_count": 20,
      "outputs": []
    },
    {
      "cell_type": "code",
      "source": [
        "class Elemento:\n",
        "\tdef __init__(self):\n",
        "\t\tself.__chave = 0\n",
        "\t\tself.__nome = \"\"\n",
        "\n",
        "\tdef getChave(self):\n",
        "\t\treturn self.__chave\n",
        "\n",
        "\tdef setChave(self, valor):\n",
        "\t\tself.__chave = valor\n",
        "\n",
        "\tdef getNome(self):\n",
        "\t\treturn self.__nome\n",
        "\n",
        "\tdef setNome(self, n):\n",
        "\t\tself.__nome = n\n",
        "\n",
        "\tdef getValores(self):\n",
        "\t\treturn self.__chave, self.__nome"
      ],
      "metadata": {
        "id": "__LZ8rM45tSk"
      },
      "execution_count": 21,
      "outputs": []
    },
    {
      "cell_type": "code",
      "source": [
        "class ListaEncadeada:\n",
        "\tdef __init__(self):\n",
        "\t\tself.__cabeca = No()\n",
        "\n",
        "\tdef getCabeca(self):\n",
        "\t\treturn self.__cabeca\n",
        "\n",
        "\tdef setCabeca(self, valor):\n",
        "\t\tself.__cabeca = valor\n",
        "\n",
        "\tdef listaVazia(self):\n",
        "\t\treturn self.getCabeca().getProximo() == None\n",
        "\n",
        "\tdef insereNoInicio(self, n):\n",
        "\t\tn.setProximo(self.getCabeca().getProximo())\n",
        "\t\tself.getCabeca().setProximo(n)\n",
        "\n",
        "\tdef retiraNoInicio(self):\n",
        "\t\tret = None\n",
        "\t\tif not self.listaVazia():\n",
        "\t\t\tret = self.getCabeca().getProximo()\n",
        "\t\t\tself.getCabeca().setProximo(ret.getProximo())\n",
        "\t\t\tret.setProximo(None)\n",
        "\t\treturn ret\n",
        "\n",
        "\tdef insereNoFim(self, n):\n",
        "\t\tant = self.getCabeca()\n",
        "\t\tatu = self.getCabeca().getProximo()\n",
        "\t\twhile atu != None:\n",
        "\t\t\tant = atu\n",
        "\t\t\tatu = atu.getProximo()\n",
        "\t\tant.setProximo(n)\n",
        "\n",
        "\tdef retiraNoFim(self, n):\n",
        "\t\tret = None\n",
        "\t\tif not self.listaVazia():\n",
        "\t\t\tant = self.getCabeca()\n",
        "\t\t\tatu = self.getCabeca().getProximo()\n",
        "\t\t\twhile atu.getProximo() != None:\n",
        "\t\t\t\tant = atu\n",
        "\t\t\t\tatu = atu.getProximo()\n",
        "\t\t\tret = atu\n",
        "\t\t\tant.setProximo(None)\n",
        "\t\treturn ret\n",
        "\n",
        "\tdef insereOrdenado(self, n):\n",
        "\t\tant = self.getCabeca()\n",
        "\t\tatu = self.getCabeca().getProximo()\n",
        "\t\twhile atu != None and atu.getDados().getChave() < n.getDados().getChave():\n",
        "\t\t\tant = atu\n",
        "\t\t\tatu = atu.getProximo()\n",
        "\t\tn.setProximo(atu)\n",
        "\t\tant.setProximo(n)\n",
        "\n",
        "\tdef retiraElemento(self, x):\n",
        "\t\tret = None\n",
        "\t\tif not self.listaVazia():\n",
        "\t\t\tant = self.getCabeca()\n",
        "\t\t\tatu = self.getCabeca().getProximo()\n",
        "\t\t\twhile atu != None and atu.getDados().getChave()!= x:\n",
        "\t\t\t\tant = atu\n",
        "\t\t\t\tatu = atu.getProximo()\n",
        "\t\t\tif atu != None:\n",
        "\t\t\t\tant.setProximo(atu.getProximo())\n",
        "\t\t\t\tatu.setProximo(None)\n",
        "\t\t\tret = atu\n",
        "\t\treturn ret\n",
        "\n",
        "\n",
        "\tdef mostraLista(self):\n",
        "\t\tatual = self.getCabeca().getProximo()\n",
        "\t\twhile atual != None:\n",
        "\t\t\tprint(atual.getDados().getValores())\n",
        "\t\t\tatual = atual.getProximo()\n",
        "\n",
        "\tdef getTamanho(self):\n",
        "\t\tret = 0\n",
        "\t\tatu = self.getCabeca().getProximo()\n",
        "\t\twhile atu != None:\n",
        "\t\t\tret = ret + 1\n",
        "\t\t\tatu = atu.getProximo()\n",
        "\t\treturn ret\n",
        "\n",
        "\tdef mostraRec(self, n):\n",
        "\t\tif n != None:\n",
        "\t\t\tprint(n.getDados().getValores())\n",
        "\t\t\tself.mostraRec(n.getProximo())"
      ],
      "metadata": {
        "id": "lcxw-yxa2nPD"
      },
      "execution_count": 22,
      "outputs": []
    },
    {
      "cell_type": "code",
      "source": [
        "class No:\n",
        "\tdef __init__(self, e = None):\n",
        "\t\tself.__dados = e\n",
        "\t\tself.__proximo = None\n",
        "\n",
        "\tdef getDados(self):\n",
        "\t\treturn self.__dados\n",
        "\n",
        "\tdef setDados(self, d):\n",
        "\t\tself.__dados = d\n",
        "\n",
        "\tdef getProximo(self):\n",
        "\t\treturn self.__proximo\n",
        "\n",
        "\tdef setProximo(self, p):\n",
        "\t\tself.__proximo = p"
      ],
      "metadata": {
        "id": "W5brR9LX2sDz"
      },
      "execution_count": 23,
      "outputs": []
    },
    {
      "cell_type": "code",
      "source": [
        "class Pilha:\n",
        "  def __init__(self):\n",
        "    self.__info = []\n",
        "\n",
        "  def pilhaVazia(self):\n",
        "    return len(self.__info) == 0\n",
        "\n",
        "  def push(self, dado):\n",
        "    self.__info.append(dado)\n",
        "\n",
        "  def pop(self):\n",
        "    if not self.pilhaVazia():\n",
        "      return self.__info.pop()\n",
        "    else:\n",
        "      return None"
      ],
      "metadata": {
        "id": "jBMJlKCP2urE"
      },
      "execution_count": 24,
      "outputs": []
    },
    {
      "cell_type": "code",
      "source": [
        "class PilhaEncadeada(ListaEncadeada):\n",
        "\tdef pilhaVazia(self):\n",
        "\t\treturn self.listaVazia()\n",
        "\n",
        "\tdef push(self, n):\n",
        "\t\tself.insereNoInicio(n)\n",
        "\n",
        "\tdef pop(self):\n",
        "\t\treturn self.retiraNoInicio()"
      ],
      "metadata": {
        "id": "jflE8saQ21D7"
      },
      "execution_count": 25,
      "outputs": []
    },
    {
      "cell_type": "code",
      "execution_count": 27,
      "metadata": {
        "id": "fck1Ef66SOCa"
      },
      "outputs": [],
      "source": [
        "def geraHeap(vet, i, n):\n",
        "  indiceDoMaior = i\n",
        "  indiceDoFE = i * 2 + 1\n",
        "  indiceDoFD = i * 2 + 2\n",
        "  if indiceDoFE < n and vet[indiceDoFE] > vet[indiceDoMaior]:\n",
        "    indiceDoMaior = indiceDoFE\n",
        "  if indiceDoFD < n and vet[indiceDoFD] > vet[indiceDoMaior]:\n",
        "    indiceDoMaior = indiceDoFD\n",
        "  if indiceDoMaior != i:\n",
        "    vet[i], vet[indiceDoMaior] = vet[indiceDoMaior], vet[i]\n",
        "    geraHeap(vet, indiceDoMaior, n)\n"
      ]
    },
    {
      "cell_type": "code",
      "source": [
        "l = ListaEncadeada()\n",
        "for i in range(0, 10):\n",
        "  e = Elemento()\n",
        "  e.setChave(i)\n",
        "  e.setNome(str(i))\n",
        "  n = No(e)\n",
        "  l.insereNoInicio(n)\n",
        "l.mostraLista()\n",
        "print(l.getTamanho())"
      ],
      "metadata": {
        "id": "mpizBXDL26JK"
      },
      "execution_count": null,
      "outputs": []
    },
    {
      "cell_type": "code",
      "source": [
        "vet = [1, 3, 5, 2, 4, 10, 11, 7, 6, 8, 9, 20, 18, 15, 17, 12, 13, 16, 14, 19]\n",
        "#vet = [2, 1, 4, 7, 10, 3, 8]\n",
        "f = Fila()\n",
        "p = Fila()\n",
        "nivel = Fila()\n",
        "n = len(vet)\n",
        "\n",
        "for i in range(n // 2 - 1, -1, -1):\n",
        "  geraHeap(vet, i, n)\n",
        "\n",
        "print(vet)\n",
        "\n",
        "f.enQueue(0)\n",
        "p.enQueue(-1)\n",
        "nivel.enQueue(0)\n",
        "while not f.filaVazia():\n",
        "  ind = f.deQueue()\n",
        "  pai = p.deQueue()\n",
        "  nvAtu = nivel.deQueue()\n",
        "  msg = \"raiz\" if pai == -1 else \"Filho de \"+str(vet[pai])\n",
        "  print(vet[ind], \"- Nível\", nvAtu, msg)\n",
        "  if ind*2+1 < len(vet):\n",
        "    f.enQueue(ind*2+1)\n",
        "    p.enQueue(ind)\n",
        "    nivel.enQueue(nvAtu+1)\n",
        "    if ind *2 + 2 < len(vet):\n",
        "      f.enQueue(ind*2+2)\n",
        "      p.enQueue(ind)\n",
        "      nivel.enQueue(nvAtu+1)\n",
        "\n"
      ],
      "metadata": {
        "id": "5qj4XDmZySWA"
      },
      "execution_count": null,
      "outputs": []
    },
    {
      "cell_type": "code",
      "source": [
        "p = PilhaEncadeada()\n",
        "x = int(input(\"Digite um número Natural: \"))\n",
        "while x > 0:\n",
        "  e = Elemento()\n",
        "  e.setChave(x % 2)\n",
        "  n = No(e)\n",
        "  p.push(n)\n",
        "  x = x // 2\n",
        "v = \"\"\n",
        "while not p.pilhaVazia():\n",
        "  k = p.pop().getDados().getChave()\n",
        "  v = v + str(k)\n",
        "  print(k)\n",
        "print(v)"
      ],
      "metadata": {
        "id": "QEokirCM3RmS"
      },
      "execution_count": null,
      "outputs": []
    },
    {
      "cell_type": "code",
      "source": [
        "e = Elemento()\n",
        "e.setChave(1)\n",
        "e.setNome(\"Guilherme\")\n",
        "n = No(e)\n",
        "print(e.getChave(), e.getNome())\n",
        "print(n.getDados().getNome(), n.getProximo())"
      ],
      "metadata": {
        "id": "lQNuu-Ul3YMT"
      },
      "execution_count": null,
      "outputs": []
    },
    {
      "cell_type": "code",
      "source": [
        "# Teste de Retirada de Um elemento Qualquer\n",
        "l = ListaEncadeada()\n",
        "ch = int(input(\"Digite uma chave (-1 para encerrar): \"))\n",
        "while ch != -1:\n",
        "  nome = input(\"Digite um nome: \")\n",
        "  e = Elemento()\n",
        "  e.setChave(ch)\n",
        "  e.setNome(nome)\n",
        "  n = No(e)\n",
        "  l.insereNoInicio(n)\n",
        "  l.mostraLista()\n",
        "  ch = int(input(\"Digite uma chave (-1 para encerrar): \"))\n",
        "\n",
        "ch = int(input(\"Digite uma chave (-1 para encerrar): \"))\n",
        "while ch != -1 and not l.listaVazia():\n",
        "  ret = l.retiraElemento(ch)\n",
        "  if ret != None:\n",
        "    print(\"Elemento retirado: \", ret.getDados().getValores())\n",
        "  else:\n",
        "    print(\"Chave não encontrada!\")\n",
        "  l.mostraLista()\n",
        "  ch = int(input(\"Digite uma chave (-1 para encerrar): \"))\n"
      ],
      "metadata": {
        "id": "-W7Tmcrb3lUs"
      },
      "execution_count": null,
      "outputs": []
    },
    {
      "cell_type": "code",
      "source": [
        "# Teste de Inserção ordenada\n",
        "l = ListaEncadeada()\n",
        "ch = int(input(\"Digite uma chave (-1 para encerrar): \"))\n",
        "while ch != -1:\n",
        "  nome = input(\"Digite um nome: \")\n",
        "  e = Elemento()\n",
        "  e.setChave(ch)\n",
        "  e.setNome(nome)\n",
        "  n = No(e)\n",
        "  l.insereOrdenado(n)\n",
        "  l.mostraLista()\n",
        "  ch = int(input(\"Digite uma chave (-1 para encerrar): \"))\n",
        "\n",
        "while not l.listaVazia():\n",
        "  print(l.retiraNoInicio().getDados().getValores())"
      ],
      "metadata": {
        "id": "7nV02r_v3n40"
      },
      "execution_count": null,
      "outputs": []
    }
  ]
}